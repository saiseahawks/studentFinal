{
 "cells": [
  {
   "cell_type": "markdown",
   "metadata": {},
   "source": [
    "---\n",
    "layout: post\n",
    "title: Individual Tri 1 Review\n",
    "description: A Summary of my learning this trimester\n",
    "courses: { compsci: {week: 12} }\n",
    "type: tangibles\n",
    "---"
   ]
  },
  {
   "cell_type": "markdown",
   "metadata": {},
   "source": [
    "**Final Project Overview**\n",
    "\n",
    "Our final project is a car rental website that allows users to select from our arsenal of performance and luxury cars for rental. Our info button extracts details from a backend API and outputs results in the frontend webpage about the specs of the vehicle that the customer is interested in. I was working with the frontend side of the project, but I also helped out with configuring and debugging the backend.\n",
    "\n",
    "**Planning**\n",
    "\n",
    "We started of with us planning the outline and framework of our website. Since I was frontend I came up with the outline and basic design for our frontend. In the backend we started figuring out how APIs work and started configuring it to our likeing. Originally we wanted to make a log in but we decided otherwise since it would make the project too complicated.\n",
    "\n",
    "**Starting the frontend homepage**\n",
    "\n",
    "To start off our frontend design I created an outline of our website and made the homepage and the vehicles page:\n",
    "\n",
    "https://github.com/Swaggerplayer33/Flask-Server-Front-End/commit/da453ee49e561ac5d0c3567f69bc652303c40efe#diff-90a81cad6ace3d67145b4f242883f8c30d94dd741d0d02cad4390c63f7a15913\n",
    "\n",
    "**My Contributions**\n",
    "- Main engineer of Front End design and Framework\n",
    "\n",
    "![Design Framework](</Users/saitalisetty/vscode/student/Screenshot 2023-11-05 at 3.40.58 PM.png>)"
   ]
  },
  {
   "cell_type": "markdown",
   "metadata": {},
   "source": [
    "Custom Cursor:"
   ]
  },
  {
   "cell_type": "code",
   "execution_count": null,
   "metadata": {},
   "outputs": [],
   "source": [
    "const cursor = document.querySelector('.custom-cursor');\n",
    "\n",
    "        document.addEventListener('mousemove', (e) => {\n",
    "            cursor.style.left = e.pageX + 'px';\n",
    "            cursor.style.top = e.pageY + 'px';\n",
    "        });"
   ]
  },
  {
   "cell_type": "markdown",
   "metadata": {},
   "source": [
    "Search Bar:"
   ]
  },
  {
   "cell_type": "code",
   "execution_count": null,
   "metadata": {},
   "outputs": [],
   "source": [
    "function searchCars() {\n",
    "    var input, filter, carContainers, car, carName, i, txtValue;\n",
    "    input = document.getElementById(\"search\");\n",
    "    filter = input.value.toUpperCase();\n",
    "    carContainers = document.querySelectorAll('.car-container');\n",
    "\n",
    "    for (i = 0; i < carContainers.length; i++) {\n",
    "        car = carContainers[i].querySelectorAll('.car'); // Find cars within each container\n",
    "        for (var j = 0; j < car.length; j++) {\n",
    "            carName = car[j].querySelector('h2');\n",
    "            txtValue = carName.textContent || carName.innerText;\n",
    "\n",
    "            if (txtValue.toUpperCase().indexOf(filter) > -1) {\n",
    "                car[j].style.display = \"block\"; // Show the car listing\n",
    "            } else {\n",
    "                car[j].style.display = \"none\"; // Hide the car listing\n",
    "            }\n",
    "        }\n",
    "    }\n",
    "}"
   ]
  },
  {
   "cell_type": "markdown",
   "metadata": {},
   "source": [
    "Vehicle Item:\n",
    "- (Button logs car ID into url)"
   ]
  },
  {
   "cell_type": "code",
   "execution_count": null,
   "metadata": {},
   "outputs": [],
   "source": [
    "<div class=\"car\"> <!--Bugatti Chiron-->\n",
    "            <div class=\"car-attributes\">\n",
    "                <span class=\"attribute-tag sedan\" data-tooltip=\"This car is a sedan.\">Sedan</span>\n",
    "                <span class=\"attribute-tag city\" data-tooltip=\"Great for city driving.\">City</span>\n",
    "            </div>\n",
    "            <img class=\"image\" src=\"https://hips.hearstapps.com/hmg-prod/images/bugatti-sur-mesure-chiron-pur-sport-106-1639069047.jpg?crop=0.766xw:0.647xh;0.234xw,0.353xh&resize=1200:*\" alt=\"Buggati Chiron\" width=\"600\" height=\"400\">\n",
    "            <h2>Bugatti Chiron</h2>\n",
    "            <p>Price: $1000/hour</p>\n",
    "            <p>$4000/day<p>\n",
    "            <a class=\"button-link\" href=\"rent.html?carName=Bugatti%20Chiron&pricePerHour=1000&pricePerDay=4000\">Rent Now</a>\n",
    "            <a class=\"button-link\" href=\"http://127.0.0.1:5500/Car.website/car-info.html?carName=Chiron\">Info</a>\n",
    "        </div>"
   ]
  },
  {
   "cell_type": "markdown",
   "metadata": {},
   "source": [
    "In Car-Info:\n",
    "-Seach for Car ID in url:"
   ]
  },
  {
   "cell_type": "code",
   "execution_count": null,
   "metadata": {},
   "outputs": [],
   "source": [
    "function getQueryParams() {\n",
    "        const params = new URLSearchParams(window.location.search);\n",
    "        const carName = params.get('carName');\n",
    "\n",
    "        // Use the parameters as needed\n",
    "        console.log(`Car Name: ${carName}`);\n",
    "\n",
    "        // You can also update HTML elements with these values\n",
    "        document.getElementById('car-name').textContent = `Car: ${carName}`;\n",
    "    }"
   ]
  },
  {
   "cell_type": "markdown",
   "metadata": {},
   "source": [
    "- Fetch data from API and put into table:"
   ]
  },
  {
   "cell_type": "markdown",
   "metadata": {},
   "source": [
    "Call Fetch API with url:\n",
    "        // Handle the response asynchronously\n",
    "        OnSuccess(response):\n",
    "            Parse response as JSON data\n",
    "\n",
    "            // Clear the existing car table content\n",
    "            Set carTable = GetElementById(\"carTable\")\n",
    "            Clear carTable contents\n",
    "\n",
    "            // Check if there are no cars found\n",
    "            If data.length is 0:\n",
    "                Set carTable text content to \"No cars found.\"\n",
    "            Else:\n",
    "                // Create a new table for displaying car data\n",
    "                Set table = CreateElement(\"table\")\n",
    "                Set table border property to \"1\"\n",
    "\n",
    "                // Create header row with table column names\n",
    "                Set headerRow = CreateElement(\"tr\")\n",
    "                For each key in ['make', 'model', 'year', 'fuel', 'cylinders']:\n",
    "                    Set th = CreateElement(\"th\")\n",
    "                    Set th text content to CapitalizeFirstLetter(key)\n",
    "                    Append th to headerRow\n",
    "                Append headerRow to table\n",
    "\n",
    "                // Populate the table with car data\n",
    "                For each car in data:\n",
    "                    Set row = CreateElement(\"tr\")\n",
    "                    For each key in ['make', 'model', 'year', 'fuel', 'cylinders']:\n",
    "                        Set cell = CreateElement(\"td\")\n",
    "                        Set cell text content to car[key]\n",
    "                        Append cell to row\n",
    "                    Append row to table\n",
    "\n",
    "                // Append the table to the carTable element in the HTML document\n",
    "                Append table to carTable\n",
    "\n",
    "        OnError(error):\n",
    "            Log \"Error: \" + error"
   ]
  },
  {
   "cell_type": "code",
   "execution_count": null,
   "metadata": {},
   "outputs": [],
   "source": [
    "document.getElementById(\"fetchData\").addEventListener(\"click\", function () {\n",
    "        const url = \"http://127.0.0.1:8420/api/car/\";\n",
    "    \n",
    "        fetch(url)\n",
    "            .then(response => response.json())\n",
    "            .then(data => {\n",
    "                const carTable = document.getElementById(\"carTable\");\n",
    "                carTable.innerHTML = \"\"; // Clear previous table\n",
    "    \n",
    "                if (data.length === 0) {\n",
    "                    carTable.textContent = \"No cars found.\";\n",
    "                } else {\n",
    "                    const table = document.createElement(\"table\");\n",
    "                    table.border = \"1\";\n",
    "    \n",
    "                    const headerRow = document.createElement(\"tr\");\n",
    "                    ['make', 'model', 'year', 'fuel', 'cylinders'].forEach(key => {\n",
    "                        const th = document.createElement(\"th\");\n",
    "                        th.textContent = key.charAt(0).toUpperCase() + key.slice(1); // Capitalize first letter of keys\n",
    "                        headerRow.appendChild(th);\n",
    "                    });\n",
    "                    table.appendChild(headerRow);\n",
    "    \n",
    "                    data.forEach(car => {\n",
    "                        const row = document.createElement(\"tr\");\n",
    "                        ['make', 'model', 'year', 'fuel', 'cylinders'].forEach(key => {\n",
    "                            const cell = document.createElement(\"td\");\n",
    "                            cell.textContent = car[key];\n",
    "                            row.appendChild(cell);\n",
    "                        });\n",
    "                        table.appendChild(row);\n",
    "                    });\n",
    "    \n",
    "                    carTable.appendChild(table);\n",
    "                }\n",
    "            })\n",
    "            .catch(error => {\n",
    "                console.error(\"Error:\", error);\n",
    "            });\n",
    "    });"
   ]
  },
  {
   "cell_type": "markdown",
   "metadata": {},
   "source": [
    "- Search for car using ID:\n",
    "- Deletes other cars and highlights the wanted vehicle and info"
   ]
  },
  {
   "cell_type": "code",
   "execution_count": null,
   "metadata": {},
   "outputs": [],
   "source": [
    "document.getElementById(\"searchCar\").addEventListener(\"click\", function () {\n",
    "        const modelInput = document.getElementById(\"modelInput\").value.toLowerCase();\n",
    "        const rows = document.querySelectorAll(\"#carTable table tr\");\n",
    "    \n",
    "        const newTable = document.createElement(\"table\");\n",
    "        newTable.border = \"1\";\n",
    "    \n",
    "        let headerRow; // Declare a variable to store the header row\n",
    "    \n",
    "        rows.forEach(row => {\n",
    "            if (row.firstElementChild.tagName === \"TH\") {\n",
    "                // Store the header row\n",
    "                headerRow = row.cloneNode(true);\n",
    "                newTable.appendChild(headerRow); // Append the header row to the new table\n",
    "            } else {\n",
    "                const modelCell = row.querySelector(\"td:nth-child(2)\"); // Assuming model is the second column\n",
    "                if (modelCell && modelCell.textContent.toLowerCase() === modelInput) {\n",
    "                    const newRow = row.cloneNode(true); // Clone the matching row\n",
    "                    newRow.style.backgroundColor = \"pink\"; // Highlight the row\n",
    "                    newTable.appendChild(newRow); // Append the matching row to the new table\n",
    "                }\n",
    "            }\n",
    "        });\n",
    "    \n",
    "        // Replace the old table with the new table\n",
    "        const carTable = document.getElementById(\"carTable\");\n",
    "        carTable.innerHTML = \"\";\n",
    "        carTable.appendChild(newTable);\n",
    "    });"
   ]
  },
  {
   "cell_type": "markdown",
   "metadata": {},
   "source": [
    "Link to API fetch Commits by Sai:\n",
    "\n",
    "https://github.com/Swaggerplayer33/Flask-Server-Front-End/commit/9b50eaaaac4a4529abf36d8b81e2ee830b4aeba6"
   ]
  },
  {
   "cell_type": "markdown",
   "metadata": {},
   "source": [
    "**Overall Summary:**\n",
    "\n",
    "Team Project\n",
    "- Front End Framework and design\n",
    "- Organizer of Data correlated to vehicles\n",
    "- Created Fetch and linked backend and API to display information and interact with the front end\n",
    "\n",
    "What I Learned\n",
    "- Understanding of how languages work together to create code\n",
    "- How APIs can fetch data and be used for multiple functions when is comes to storing information\n",
    "- Different algorithms and teqniques when coding\n",
    "\n",
    "What We Learned As A Team\n",
    "\n",
    "To improve as a team member, I'll focus on sharpening problem-solving skills by tackling complex challenges creatively. I'll also invest time in mastering the technologies our team uses, ensuring proficiency and effective contribution. Emphasizing code quality through standards adherence and active participation in code reviews is crucial. Additionally, I'll prioritize knowledge sharing and mentorship to foster a collaborative learning environment. Managing time effectively, estimating project timelines accurately, and meeting deadlines will be a priority. These efforts aim to enhance my role and contribute meaningfully to our team's success.\n",
    "\n",
    "We planned and distributed work very well. However, our focus as a team was not centered on a legitimate goal. Specifically, we needed to focus on linking our back end to front end but we all went off and did our own thing. This really hurt our group, but we ended up finally focusing on our goals which allowed us to successfully complete our project."
   ]
  }
 ],
 "metadata": {
  "kernelspec": {
   "display_name": "Python 3",
   "language": "python",
   "name": "python3"
  },
  "language_info": {
   "codemirror_mode": {
    "name": "ipython",
    "version": 3
   },
   "file_extension": ".py",
   "mimetype": "text/x-python",
   "name": "python",
   "nbconvert_exporter": "python",
   "pygments_lexer": "ipython3",
   "version": "3.11.4"
  },
  "orig_nbformat": 4
 },
 "nbformat": 4,
 "nbformat_minor": 2
}
