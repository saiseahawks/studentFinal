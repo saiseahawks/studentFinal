{
 "cells": [
  {
   "cell_type": "markdown",
   "metadata": {},
   "source": [
    "---\n",
    "toc: true\n",
    "comments: true\n",
    "layout: post\n",
    "title: Pseudo Code Reflection\n",
    "description:  This is a reflection of my understanding of Pseudo Code\n",
    "courses: { compsci: {week: 12} }\n",
    "type: tangibles\n",
    "---"
   ]
  },
  {
   "cell_type": "markdown",
   "metadata": {},
   "source": [
    "## What is Pseudo Code?\n",
    ">Pseudo code is a simplified, human-readable representation of a program's logic. It serves as a bridge between our thoughts and actual code, helping us plan and design programs effectively. Think of it as a rough draft of your code, focusing on the \"what\" rather than the \"how.\"\n",
    "\n",
    "## Why Pseudo Code?\n",
    "- Clarity: Pseudo code allows us to express our ideas clearly before diving into coding. It helps in understanding complex algorithms.\n",
    "- Planning: Before writing real code, pseudo code helps in outlining the program's structure.\n",
    "- Collaboration: It's a universal language understood by programmers, making it easier to collaborate.\n",
    "\n",
    "## Basic Elements of Pseudo Code\n",
    "1. Variables: Declare variables with meaningful names and types."
   ]
  },
  {
   "cell_type": "code",
   "execution_count": null,
   "metadata": {
    "vscode": {
     "languageId": "sql"
    }
   },
   "outputs": [],
   "source": [
    "SET age AS INTEGER"
   ]
  },
  {
   "cell_type": "markdown",
   "metadata": {},
   "source": [
    "2. Input and Output: Describe user interactions."
   ]
  },
  {
   "cell_type": "code",
   "execution_count": null,
   "metadata": {
    "vscode": {
     "languageId": "sql"
    }
   },
   "outputs": [],
   "source": [
    "READ age FROM USER\n",
    "DISPLAY \"You entered: \" + age"
   ]
  },
  {
   "cell_type": "markdown",
   "metadata": {},
   "source": [
    "3. Conditions: Use IF statements for decision-making."
   ]
  },
  {
   "cell_type": "code",
   "execution_count": null,
   "metadata": {
    "vscode": {
     "languageId": "sql"
    }
   },
   "outputs": [],
   "source": [
    "IF age >= 18 THEN\n",
    "    DISPLAY \"You are an adult.\"\n",
    "ELSE\n",
    "    DISPLAY \"You are a minor.\"\n",
    "END IF"
   ]
  },
  {
   "cell_type": "markdown",
   "metadata": {},
   "source": [
    "4. Loops: Plan loops with clear entry and exit conditions."
   ]
  },
  {
   "cell_type": "code",
   "execution_count": null,
   "metadata": {
    "vscode": {
     "languageId": "sql"
    }
   },
   "outputs": [],
   "source": [
    "FOR i FROM 1 TO 10\n",
    "    DISPLAY \"Count: \" + i\n",
    "END FOR"
   ]
  },
  {
   "cell_type": "markdown",
   "metadata": {},
   "source": [
    "5. Functions: Define functions and their parameters."
   ]
  },
  {
   "cell_type": "code",
   "execution_count": null,
   "metadata": {
    "vscode": {
     "languageId": "sql"
    }
   },
   "outputs": [],
   "source": [
    "FUNCTION calculateSum(a, b)\n",
    "    RETURN a + b\n",
    "END FUNCTION"
   ]
  },
  {
   "cell_type": "markdown",
   "metadata": {},
   "source": [
    "## Pseudo Code in Python\n",
    "> Pseudo code often resembles the actual code closely. Here's a Python example and its corresponding pseudo code:\n",
    "\n",
    "## Python:"
   ]
  },
  {
   "cell_type": "code",
   "execution_count": null,
   "metadata": {},
   "outputs": [],
   "source": [
    "def calculate_sum(a, b):\n",
    "    return a + b\n",
    "\n",
    "age = int(input(\"Enter your age: \"))\n",
    "if age >= 18:\n",
    "    print(\"You are an adult.\")\n",
    "else:\n",
    "    print(\"You are a minor.\")\n"
   ]
  },
  {
   "cell_type": "markdown",
   "metadata": {},
   "source": [
    "## Pseudo Code:"
   ]
  },
  {
   "cell_type": "code",
   "execution_count": null,
   "metadata": {
    "vscode": {
     "languageId": "sql"
    }
   },
   "outputs": [],
   "source": [
    "FUNCTION calculate_sum(a, b)\n",
    "    RETURN a + b\n",
    "END FUNCTION\n",
    "\n",
    "READ age FROM USER\n",
    "IF age >= 18 THEN\n",
    "    DISPLAY \"You are an adult.\"\n",
    "ELSE\n",
    "    DISPLAY \"You are a minor.\"\n",
    "END IF"
   ]
  },
  {
   "cell_type": "markdown",
   "metadata": {},
   "source": [
    "- In this example, you can see how the pseudo code closely mirrors the Python code. The pseudo code focuses on the program's logic without getting into specific syntax details."
   ]
  },
  {
   "cell_type": "markdown",
   "metadata": {},
   "source": [
    "- That's pretty much pseudo code in a nutshell! It's a fantastic tool for planning, understanding, and communicating the logic of your programs. Whether you're a beginner or an experienced coder, pseudo code can significantly enhance your programming journey."
   ]
  },
  {
   "cell_type": "markdown",
   "metadata": {},
   "source": [
    "### Hack 2: Robot Pseudo-Code\n",
    "<img src=\"https://media.discordapp.net/attachments/1143438030749847604/1165903186473783317/image.png?ex=65488af5&is=653615f5&hm=349a4cfef60546b6f85e59a2448ac85ed4fd0181d63f70456904909e46401d74&=\">\n",
    "\n",
    "> Instructions:\n",
    "- The blue triangle represents a robot that moves in a grid of squares. The tip of the triangle indicates where the robot is facing.\n",
    "- Write a procedure that allows the robot to make a detour around a block by moving to the left.\n",
    "\n",
    "> Commands\n",
    "- MOVE_FORWARD() - Moves the robot forward one square\n",
    "- MOVE_BACKWARD() - Moves the robot backward one square\n",
    "- ROTATE_LEFT() - Rotates the robot 90 degrees left\n",
    "- ROTATE_RIGHT() - Rotates the robot 90 degrees right"
   ]
  },
  {
   "cell_type": "markdown",
   "metadata": {},
   "source": [
    "> Your code here:\n",
    "ROTATE_LEFT()\n",
    "MOVE_FORWARD()\n",
    "ROTATE_RIGHT()\n",
    "MOVE_FORWARD()\n",
    "MOVE_FORWARD()\n",
    "ROTATE_RIGHT()\n",
    "MOVE_FORWARD()"
   ]
  }
 ],
 "metadata": {
  "kernelspec": {
   "display_name": "Python 3",
   "language": "python",
   "name": "python3"
  },
  "language_info": {
   "codemirror_mode": {
    "name": "ipython",
    "version": 3
   },
   "file_extension": ".py",
   "mimetype": "text/x-python",
   "name": "python",
   "nbconvert_exporter": "python",
   "pygments_lexer": "ipython3",
   "version": "3.10.12"
  },
  "orig_nbformat": 4
 },
 "nbformat": 4,
 "nbformat_minor": 2
}
